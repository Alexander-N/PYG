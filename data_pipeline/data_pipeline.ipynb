{
 "cells": [
  {
   "cell_type": "code",
   "execution_count": null,
   "metadata": {
    "collapsed": false,
    "scrolled": true
   },
   "outputs": [],
   "source": [
    "%matplotlib inline\n",
    "import csv\n",
    "# file and exercise from https://github.com/brandon-rhodes/pycon-pandas-tutorial\n",
    "with open('titles.csv', 'r') as f:\n",
    "    titles = list(csv.reader(f))\n",
    "\n",
    "#len(titles)\n",
    "titles = titles[1:]\n",
    "titles = [(year, title) for title, year in titles]\n",
    "titles"
   ]
  },
  {
   "cell_type": "code",
   "execution_count": null,
   "metadata": {
    "collapsed": false
   },
   "outputs": [],
   "source": [
    "import matplotlib.pyplot as plt\n",
    "from itertools import groupby\n",
    "\n",
    "\n",
    "hamlets = [(int(year), title) for year, title in titles if 'hamlet' in title.lower()]\n",
    "hamlets = sorted(hamlets)\n",
    "hamlets_per_decade = [(decade, len(list(g))) for decade, g in groupby(hamlets, lambda row: row[0] // 10 * 10)]\n",
    "\n",
    "decades, counts = zip(*hamlets_per_decade)\n",
    "plt.bar(decades, counts, 5)"
   ]
  },
  {
   "cell_type": "markdown",
   "metadata": {},
   "source": [
    "What have we done?\n",
    "* filter by name\n",
    "* sort by year\n",
    "* group by decade\n",
    "* count\n",
    "* split in x, y\n",
    "* plot result"
   ]
  },
  {
   "cell_type": "code",
   "execution_count": null,
   "metadata": {
    "collapsed": false
   },
   "outputs": [],
   "source": [
    "import matplotlib.pyplot as plt\n",
    "from itertools import groupby\n",
    "\n",
    "def get_decade(row):\n",
    "    year, title = row\n",
    "    return int(year) // 10 * 10\n",
    "\n",
    "def contains_hamlet(row):\n",
    "    year, title = row\n",
    "    return 'hamlet' in title.lower()\n",
    "\n",
    "filtered_titles = [row for row in titles if contains_hamlet(row)]\n",
    "sorted_titles = sorted(filtered_titles)\n",
    "grouped_titles = groupby(sorted_titles, get_decade)\n",
    "counted_titles = [(group, len(list(grouped_titles))) for group, grouped_titles in grouped_titles]\n",
    "\n",
    "years, n_titles = zip(*counted_titles)\n",
    "plt.bar(years, n_titles, 5)"
   ]
  },
  {
   "cell_type": "code",
   "execution_count": null,
   "metadata": {
    "collapsed": false
   },
   "outputs": [],
   "source": [
    "from functional import seq\n",
    "\n",
    "def count_titles(year_group):\n",
    "    year, group = year_group\n",
    "    return year, len(list(group))\n",
    "\n",
    "counted_titles = (seq(titles)\n",
    "    .filter(contains_hamlet)\n",
    "    .sorted()\n",
    "    .group_by(get_decade)\n",
    "    .map(count_titles)\n",
    ")\n",
    "\n",
    "years, n_titles = zip(*counted_titles)\n",
    "plt.bar(years, n_titles, 5, align='center')\n",
    "plt.xticks(years, rotation='vertical')"
   ]
  },
  {
   "cell_type": "code",
   "execution_count": null,
   "metadata": {
    "collapsed": false
   },
   "outputs": [],
   "source": [
    "# map-reduce hello world\n",
    "from operator import add\n",
    "c_titles = (seq(titles)\n",
    "    .filter(contains_hamlet)\n",
    "    .sorted()\n",
    "    .map(lambda r: (get_decade(r), 1))\n",
    "    .reduce_by_key(add)\n",
    ")\n",
    " \n",
    "years, n_titles = zip(*c_titles)\n",
    "plt.bar(years, n_titles, 5, align='center')\n",
    "plt.xticks(years, rotation='vertical')"
   ]
  },
  {
   "cell_type": "code",
   "execution_count": null,
   "metadata": {
    "collapsed": false
   },
   "outputs": [],
   "source": [
    "# there is pandas\n",
    "import pandas as pd\n",
    "p_titles = pd.DataFrame.from_csv('titles.csv', index_col=None)\n",
    "\n",
    "hamlet_titles = p_titles[p_titles.title.str.contains('(?i)hamlet')]\n",
    "hamlet_titles.groupby(hamlet_titles.year // 10 * 10).size().plot(kind=\"bar\")\n",
    "# also pySpark..."
   ]
  },
  {
   "cell_type": "markdown",
   "metadata": {},
   "source": [
    "Sources:\n",
    "* https://github.com/brandon-rhodes/pycon-pandas-tutorial\n",
    "* https://github.com/EntilZha/PyFunctional\n",
    "* http://tomaugspurger.github.io/method-chaining.html"
   ]
  }
 ],
 "metadata": {
  "kernelspec": {
   "display_name": "Python 3",
   "language": "python",
   "name": "python3"
  },
  "language_info": {
   "codemirror_mode": {
    "name": "ipython",
    "version": 3
   },
   "file_extension": ".py",
   "mimetype": "text/x-python",
   "name": "python",
   "nbconvert_exporter": "python",
   "pygments_lexer": "ipython3",
   "version": "3.4.3"
  }
 },
 "nbformat": 4,
 "nbformat_minor": 0
}
