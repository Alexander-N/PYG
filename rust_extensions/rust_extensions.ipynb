{
 "cells": [
  {
   "cell_type": "code",
   "execution_count": null,
   "metadata": {},
   "outputs": [],
   "source": [
    "%load_ext blackcellmagic"
   ]
  },
  {
   "cell_type": "markdown",
   "metadata": {},
   "source": [
    "# Why Rust extensions?"
   ]
  },
  {
   "cell_type": "markdown",
   "metadata": {},
   "source": [
    "* At some point you might need the speed of native extensions\n",
    "* Can be a successful combination\n",
    "  * numpy\n",
    "  * pillow\n",
    "* Rust\n",
    "  * safety vs speed, choose both\n",
    "  * also a lot of niceties of modern higher level languages"
   ]
  },
  {
   "cell_type": "markdown",
   "metadata": {},
   "source": [
    "# Load some data"
   ]
  },
  {
   "cell_type": "code",
   "execution_count": 1,
   "metadata": {},
   "outputs": [],
   "source": [
    "import os\n",
    "import re\n",
    "\n",
    "\n",
    "def read_data(path: str) -> str:\n",
    "    with open(path) as f:\n",
    "        text = f.read()\n",
    "    return text\n",
    "\n",
    "\n",
    "def normalize(text: str) -> str:\n",
    "    lowercase_and_ws = re.compile(r\"[^a-z\\s]\")\n",
    "    return re.sub(lowercase_and_ws, \"\", text.lower())\n",
    "\n",
    "\n",
    "assert normalize(\"Julius,,,, Caesar\") == \"julius caesar\"\n",
    "\n",
    "text_corpus = normalize(read_data(\"data/gallic_wars.txt\")) * 1500\n",
    "# Make dataset 5 times bigger\n",
    "# text_corpus = normalize(read_data(\"data/gallic_wars.txt\")) * 7500"
   ]
  },
  {
   "cell_type": "code",
   "execution_count": 5,
   "metadata": {},
   "outputs": [
    {
     "data": {
      "text/plain": [
       "725827500"
      ]
     },
     "execution_count": 5,
     "metadata": {},
     "output_type": "execute_result"
    }
   ],
   "source": [
    "len(text_corpus)"
   ]
  },
  {
   "cell_type": "markdown",
   "metadata": {},
   "source": [
    "# Count a word"
   ]
  },
  {
   "cell_type": "code",
   "execution_count": 3,
   "metadata": {},
   "outputs": [],
   "source": [
    "def count_word(text_corpus: str, searched_word: str) -> int:\n",
    "    return len([word for word in text_corpus.split() if word == searched_word])"
   ]
  },
  {
   "cell_type": "code",
   "execution_count": 6,
   "metadata": {},
   "outputs": [],
   "source": [
    "def count_word(text_corpus: str, searched_word: str) -> int:\n",
    "    return text_corpus.count(searched_word)"
   ]
  },
  {
   "cell_type": "code",
   "execution_count": null,
   "metadata": {},
   "outputs": [],
   "source": []
  },
  {
   "cell_type": "code",
   "execution_count": 8,
   "metadata": {},
   "outputs": [],
   "source": [
    "from collections import Counter\n",
    "\n",
    "def count_word(text_corpus: str, searched_word: str) -> int:\n",
    "    return Counter(text_corpus.split())[searched_word]"
   ]
  },
  {
   "cell_type": "code",
   "execution_count": 7,
   "metadata": {},
   "outputs": [
    {
     "name": "stdout",
     "output_type": "stream",
     "text": [
      "CPU times: user 509 ms, sys: 544 µs, total: 509 ms\n",
      "Wall time: 506 ms\n"
     ]
    },
    {
     "data": {
      "text/plain": [
       "22500"
      ]
     },
     "execution_count": 7,
     "metadata": {},
     "output_type": "execute_result"
    }
   ],
   "source": [
    "%time count_word(text_corpus, \"marcus\")"
   ]
  },
  {
   "cell_type": "markdown",
   "metadata": {},
   "source": [
    "# Pandas"
   ]
  },
  {
   "cell_type": "code",
   "execution_count": 4,
   "metadata": {},
   "outputs": [],
   "source": [
    "import pandas as pd\n",
    "\n",
    "def pandas_count_word(text_corpus: str, searched_word: str) -> int:\n",
    "    series = pd.Series(text_corpus.split())\n",
    "    return sum(series.isin([searched_word]))"
   ]
  },
  {
   "cell_type": "code",
   "execution_count": 5,
   "metadata": {},
   "outputs": [
    {
     "name": "stdout",
     "output_type": "stream",
     "text": [
      "CPU times: user 28.1 s, sys: 2.99 s, total: 31.1 s\n",
      "Wall time: 31 s\n"
     ]
    },
    {
     "data": {
      "text/plain": [
       "22500"
      ]
     },
     "execution_count": 5,
     "metadata": {},
     "output_type": "execute_result"
    }
   ],
   "source": [
    "%time pandas_count_word(text_corpus, \"marcus\")"
   ]
  },
  {
   "cell_type": "code",
   "execution_count": 7,
   "metadata": {},
   "outputs": [
    {
     "name": "stdout",
     "output_type": "stream",
     "text": [
      "CPU times: user 15.2 s, sys: 30.8 ms, total: 15.2 s\n",
      "Wall time: 15.2 s\n"
     ]
    },
    {
     "data": {
      "text/plain": [
       "22500"
      ]
     },
     "execution_count": 7,
     "metadata": {},
     "output_type": "execute_result"
    }
   ],
   "source": [
    "series = pd.Series(text_corpus.split())\n",
    "searched_word = \"marcus\"\n",
    "%time sum(series == searched_word)"
   ]
  },
  {
   "cell_type": "markdown",
   "metadata": {},
   "source": [
    "# Rust"
   ]
  },
  {
   "cell_type": "code",
   "execution_count": 4,
   "metadata": {},
   "outputs": [
    {
     "name": "stderr",
     "output_type": "stream",
     "text": [
      "   Compiling word_count_rust v0.1.0 (/home/a/pyg/rust_extensions/word_count_rust)\n",
      "    Finished release [optimized] target(s) in 0.77s\n"
     ]
    }
   ],
   "source": [
    "%%bash\n",
    "cd word_count_rust/\n",
    "cargo build --release"
   ]
  },
  {
   "cell_type": "code",
   "execution_count": 5,
   "metadata": {},
   "outputs": [],
   "source": [
    "del rust_lib"
   ]
  },
  {
   "cell_type": "code",
   "execution_count": 2,
   "metadata": {},
   "outputs": [],
   "source": [
    "import ctypes\n",
    "\n",
    "rust_lib = ctypes.cdll.LoadLibrary(\"word_count_rust/target/release/libword_count_rust.so\")"
   ]
  },
  {
   "cell_type": "code",
   "execution_count": 3,
   "metadata": {},
   "outputs": [
    {
     "name": "stdout",
     "output_type": "stream",
     "text": [
      "CPU times: user 4.56 s, sys: 208 ms, total: 4.77 s\n",
      "Wall time: 1.05 s\n"
     ]
    },
    {
     "data": {
      "text/plain": [
       "22500"
      ]
     },
     "execution_count": 3,
     "metadata": {},
     "output_type": "execute_result"
    }
   ],
   "source": [
    "%time rust_lib.word_count(text_corpus.encode(), \"marcus\".encode())"
   ]
  },
  {
   "cell_type": "markdown",
   "metadata": {},
   "source": [
    "### Make it parallel"
   ]
  },
  {
   "cell_type": "code",
   "execution_count": 4,
   "metadata": {},
   "outputs": [
    {
     "name": "stderr",
     "output_type": "stream",
     "text": [
      "   Compiling word_count_rust v0.1.0 (/home/a/pyg/rust_extensions/word_count_rust)\n",
      "    Finished release [optimized] target(s) in 0.76s\n"
     ]
    }
   ],
   "source": [
    "%%bash\n",
    "cd word_count_rust/\n",
    "cargo build --release"
   ]
  },
  {
   "cell_type": "code",
   "execution_count": null,
   "metadata": {},
   "outputs": [
    {
     "data": {
      "text/html": [
       "<script>Jupyter.notebook.kernel.restart()</script>"
      ],
      "text/plain": [
       "<IPython.core.display.HTML object>"
      ]
     },
     "execution_count": 1,
     "metadata": {},
     "output_type": "execute_result"
    }
   ],
   "source": [
    "from IPython.core.display import HTML\n",
    "HTML(\"<script>Jupyter.notebook.kernel.restart()</script>\")"
   ]
  },
  {
   "cell_type": "code",
   "execution_count": null,
   "metadata": {},
   "outputs": [],
   "source": [
    "import ctypes\n",
    "\n",
    "rust_lib = ctypes.cdll.LoadLibrary(\"word_count_rust/target/release/libword_count_rust.so\")"
   ]
  },
  {
   "cell_type": "code",
   "execution_count": null,
   "metadata": {},
   "outputs": [],
   "source": [
    "%time rust_lib.word_count(text_corpus.encode(), \"marcus\".encode())"
   ]
  },
  {
   "cell_type": "markdown",
   "metadata": {},
   "source": [
    "# More complex use cases - PyO3"
   ]
  },
  {
   "cell_type": "markdown",
   "metadata": {},
   "source": [
    "* Who frees the data?\n",
    "  * http://jakegoulding.com/rust-ffi-omnibus/string_return/\n",
    "* Use the Python C-API?\n",
    "  * https://docs.python.org/3/c-api/unicode.html#c.PyUnicode_FromString\n",
    "* Thin Ice\n",
    "  * https://docs.python.org/3/extending/extending.html#thin-ice\n",
    "* Python classes\n",
    "  * https://github.com/PyO3/pyo3/blob/master/examples/word-count/src/lib.rs\n",
    "  * https://github.com/PyO3/pyo3/blob/master/examples/word-count/tests/test_word_count.py"
   ]
  },
  {
   "cell_type": "code",
   "execution_count": 2,
   "metadata": {},
   "outputs": [],
   "source": [
    "!cp word_count_rust/target/release/libword_count_rust.so lib_word_count_pyo3.so\n",
    "import lib_word_count_pyo3 as rust_lib_pyo3"
   ]
  },
  {
   "cell_type": "code",
   "execution_count": 3,
   "metadata": {},
   "outputs": [
    {
     "name": "stdout",
     "output_type": "stream",
     "text": [
      "CPU times: user 4.29 s, sys: 0 ns, total: 4.29 s\n",
      "Wall time: 686 ms\n"
     ]
    },
    {
     "data": {
      "text/plain": [
       "22500"
      ]
     },
     "execution_count": 3,
     "metadata": {},
     "output_type": "execute_result"
    }
   ],
   "source": [
    "%time rust_lib_pyo3.word_count_pyo3(text_corpus, \"marcus\")"
   ]
  },
  {
   "cell_type": "markdown",
   "metadata": {},
   "source": [
    "# Package it\n",
    "\n",
    "https://github.com/PyO3/maturin\n",
    "Can be used with cffi, PyO3 and rust-cpython"
   ]
  },
  {
   "cell_type": "code",
   "execution_count": 4,
   "metadata": {
    "scrolled": true
   },
   "outputs": [
    {
     "name": "stdout",
     "output_type": "stream",
     "text": [
      "Requirement already satisfied: maturin in ./venv/lib/python3.7/site-packages (0.7.7)\n",
      "Requirement already satisfied: toml~=0.10.0 in ./venv/lib/python3.7/site-packages (from maturin) (0.10.0)\n",
      "Requirement already satisfied: cffi in ./venv/lib/python3.7/site-packages (1.12.3)\n",
      "Requirement already satisfied: pycparser in ./venv/lib/python3.7/site-packages (from cffi) (2.19)\n",
      "🐍 Using CPython 3.7m at python to generate the cffi bindings\n",
      "📦 Built wheel to /home/a/pyg/rust_extensions/word_count_rust/target/wheels/word_count_rust-0.1.0-py2.py3-none-manylinux1_x86_64.whl\n"
     ]
    },
    {
     "name": "stderr",
     "output_type": "stream",
     "text": [
      "   Compiling pyo3 v0.8.3\n",
      "   Compiling word_count_rust v0.1.0 (/home/a/pyg/rust_extensions/word_count_rust)\n",
      "    Finished release [optimized] target(s) in 4.62s\n"
     ]
    }
   ],
   "source": [
    "%%bash\n",
    "pip install maturin\n",
    "pip install cffi\n",
    "cd word_count_rust/\n",
    "maturin build -b cffi --release"
   ]
  },
  {
   "cell_type": "code",
   "execution_count": 5,
   "metadata": {},
   "outputs": [
    {
     "name": "stdout",
     "output_type": "stream",
     "text": [
      "Processing ./word_count_rust/target/wheels/word_count_rust-0.1.0-py2.py3-none-manylinux1_x86_64.whl\n",
      "Installing collected packages: word-count-rust\n",
      "Successfully installed word-count-rust-0.1.0\n"
     ]
    }
   ],
   "source": [
    "!pip install -I word_count_rust/target/wheels/word_count_rust-0.1.0-py2.py3-none-manylinux1_x86_64.whl"
   ]
  },
  {
   "cell_type": "code",
   "execution_count": 6,
   "metadata": {},
   "outputs": [],
   "source": [
    "from word_count_rust import lib as rust_lib"
   ]
  },
  {
   "cell_type": "code",
   "execution_count": 7,
   "metadata": {},
   "outputs": [
    {
     "name": "stdout",
     "output_type": "stream",
     "text": [
      "CPU times: user 4.53 s, sys: 232 ms, total: 4.76 s\n",
      "Wall time: 1.06 s\n"
     ]
    },
    {
     "data": {
      "text/plain": [
       "22500"
      ]
     },
     "execution_count": 7,
     "metadata": {},
     "output_type": "execute_result"
    }
   ],
   "source": [
    "%time rust_lib.word_count(text_corpus.encode(), \"marcus\".encode())"
   ]
  },
  {
   "cell_type": "markdown",
   "metadata": {},
   "source": [
    "... and build wheels for all platforms\n",
    "* https://github.com/kngwyu/rogue-gym/blob/master/azure-pipelines.yml"
   ]
  },
  {
   "cell_type": "markdown",
   "metadata": {},
   "source": [
    "# Universal runtime with web assembly?"
   ]
  },
  {
   "cell_type": "markdown",
   "metadata": {},
   "source": [
    "* https://hacks.mozilla.org/2019/08/webassembly-interface-types/\n",
    "\n",
    "\n",
    "* https://github.com/CraneStation/wasmtime-demos/tree/master/python\n",
    "* https://github.com/bytecodealliance/wasmtime/tree/master/crates/misc/py\n",
    "* https://github.com/wasmerio/python-ext-wasm"
   ]
  },
  {
   "cell_type": "markdown",
   "metadata": {},
   "source": [
    "# Notes\n",
    "\n",
    "## Not so nice\n",
    "  * fighting with the borrow checker\n",
    "     * https://doc.rust-lang.org/book/ch10-03-lifetime-syntax.html#lifetime-annotations-in-function-signatures\n",
    "      * noisy syntax with lifetimes\n",
    "  * strings\n",
    "    * https://doc.rust-lang.org/book/ch08-02-strings.html\n",
    "\n",
    "## Nice\n",
    "  * Iterators\n",
    "  * Easy parallelize with rayon\n",
    "  * Error handling, Option, Result\n",
    "    * https://doc.rust-lang.org/rust-by-example/error/result/enter_question_mark.html\n",
    "  * No overhead (no gc), you can go as low as C, low memory footprint\n",
    "    * interesting for wasm, embedded\n",
    "  * guaranteed memory safety\n",
    "  * zero cost abstractions\n",
    "  * \"fearless concurrency\"\n",
    "    * many parallel/concurrency problems are compile time errors\n",
    "    * no data races\n",
    "  * Tooling\n",
    "    * helpful compiler errors\n",
    "    * cargo\n",
    "    * rustfmt\n",
    "    * clippy\n",
    "    * cargo doc\n",
    "    * tests run parallel by default"
   ]
  }
 ],
 "metadata": {
  "kernelspec": {
   "display_name": "Python 3",
   "language": "python",
   "name": "python3"
  },
  "language_info": {
   "codemirror_mode": {
    "name": "ipython",
    "version": 3
   },
   "file_extension": ".py",
   "mimetype": "text/x-python",
   "name": "python",
   "nbconvert_exporter": "python",
   "pygments_lexer": "ipython3",
   "version": "3.7.5"
  }
 },
 "nbformat": 4,
 "nbformat_minor": 2
}
